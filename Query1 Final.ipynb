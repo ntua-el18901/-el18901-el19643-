{
 "cells": [
  {
   "cell_type": "code",
   "execution_count": 12,
   "id": "983b020e-d81b-4152-b04a-7b0a792ab739",
   "metadata": {
    "tags": []
   },
   "outputs": [
    {
     "data": {
      "application/vnd.jupyter.widget-view+json": {
       "model_id": "",
       "version_major": 2,
       "version_minor": 0
      },
      "text/plain": [
       "FloatProgress(value=0.0, bar_style='info', description='Progress:', layout=Layout(height='25px', width='50%'),…"
      ]
     },
     "metadata": {},
     "output_type": "display_data"
    },
    {
     "name": "stdout",
     "output_type": "stream",
     "text": [
      "+------------+------+\n",
      "|   age_group| count|\n",
      "+------------+------+\n",
      "|      Adults|121093|\n",
      "|Young adults| 33605|\n",
      "|        Kids| 10830|\n",
      "|      Elders|  5985|\n",
      "+------------+------+\n",
      "\n",
      "Time taken: 11.81 seconds"
     ]
    }
   ],
   "source": [
    "from pyspark.sql import SparkSession\n",
    "from pyspark.sql.types import StructField, StructType, IntegerType, \\\n",
    "    FloatType, StringType\n",
    "from pyspark.sql.functions import col, when, count\n",
    "import csv\n",
    "import time\n",
    "\n",
    "# Δημιουργουμε SparkSession με 4 executors\n",
    "spark = SparkSession \\\n",
    "    .builder \\\n",
    "    .appName(\"Query 1 with Dataframe\") \\\n",
    "    .config(\"spark.executor.instances\", \"4\") \\\n",
    "    .getOrCreate()\n",
    "\n",
    "start_time = time.time()\n",
    "\n",
    "schema = StructType([\n",
    "    StructField(\"dr_no\", IntegerType(), True),\n",
    "    StructField(\"date_rptd\", FloatType(), True),\n",
    "    StructField(\"date_occ\", FloatType(), True),\n",
    "    StructField(\"time_occ\", StringType(), True),\n",
    "    StructField(\"area\", StringType(), True),\n",
    "    StructField(\"area_name\", StringType(), True),\n",
    "    StructField(\"rpt_dist_no\", StringType(), True),\n",
    "    StructField(\"part_1_2\", IntegerType(), True),\n",
    "    StructField(\"crm_cd\", StringType(), True),\n",
    "    StructField(\"crm_cd_desc\", StringType(), True),\n",
    "    StructField(\"mocodes\", StringType(), True),\n",
    "    StructField(\"vict_age\", StringType(), True),\n",
    "    StructField(\"vict_sex\", StringType(), True),\n",
    "    StructField(\"vict_descent\", StringType(), True),\n",
    "    StructField(\"premis_cd\", StringType(), True),\n",
    "    StructField(\"premis_desc\", StringType(), True),\n",
    "    StructField(\"weapon_used_cd\", StringType(), True),\n",
    "    StructField(\"weapon_desc\", StringType(), True),\n",
    "    StructField(\"status\", StringType(), True),\n",
    "    StructField(\"status_desc\", StringType(), True),\n",
    "    StructField(\"crm_cd_1\", StringType(), True),\n",
    "    StructField(\"crm_cd_2\", StringType(), True),\n",
    "    StructField(\"crm_cd_3\", StringType(), True),\n",
    "    StructField(\"crm_cd_4\", StringType(), True),\n",
    "    StructField(\"location\", StringType(), True),\n",
    "    StructField(\"cross_street\", StringType(), True),\n",
    "    StructField(\"lat\", IntegerType(), True),\n",
    "    StructField(\"lon\", IntegerType(), True),\n",
    "])\n",
    "\n",
    "file_1 = \"s3://initial-notebook-data-bucket-dblab-905418150721/\\\n",
    "CrimeData/Crime_Data_from_2010_to_2019_20241101.csv\"\n",
    "file_2 = \"s3://initial-notebook-data-bucket-dblab-905418150721/\\\n",
    "CrimeData/Crime_Data_from_2020_to_Present_20241101.csv\"\n",
    "\n",
    "# Διαβαζουμε τα αρχεια και τα ενοποιουμε σε ενα Dataframe\n",
    "df1 = spark.read.csv(file_1, header=True, schema=schema)\n",
    "df2 = spark.read.csv(file_2, header=True, schema=schema)\n",
    "df = df1.union(df2)\n",
    "# Κραταμε μονο τις στηλες που μας ενδιαφερουν και βγαζουμε τι\n",
    "# ακυρες περιπτωσεις οπου εχουμε αρνητικη ηλικια θυματων\n",
    "df = df.filter((col(\"vict_age\") > 0))\n",
    "df = df.select(\"vict_age\", \"crm_cd_desc\")\n",
    "# Φιλτραρουμε ωστε το πεδιο \"aggravated assault\" να περιέχει ζητουμενο τον όρο\n",
    "df = df.filter(col(\"crm_cd_desc\").contains(\"AGGRAVATED ASSAULT\"))\n",
    "# Κατηγοριοποιουμε τα θυματα βασει ηλικιας\n",
    "df = df.withColumn(\n",
    "    \"age_group\",\n",
    "    when(col(\"vict_age\") < 18, \"Kids\")\n",
    "    .when((col(\"vict_age\") >= 18) & (col(\"vict_age\") <= 24), \"Young adults\")\n",
    "    .when((col(\"vict_age\") >= 25) & (col(\"vict_age\") <= 64), \"Adults\")\n",
    "    .when(col(\"vict_age\") > 64, \"Elders\")\n",
    ")\n",
    "# Μετραμε ποσες φορες εμφανιζεται η εκαστοτε ηλικιακη ομαδα\n",
    "df = df.groupBy(\"age_group\").agg(count(\"*\").alias(\"count\"))\n",
    "# Ταξινονομυμε σε φθινουσα σειρα\n",
    "df = df.orderBy(col(\"count\").desc())\n",
    "# Εμφανιζουμε τα αποτελεσματα\n",
    "df.show()\n",
    "\n",
    "end_time = time.time()\n",
    "elapsed_time = end_time - start_time\n",
    "print(f\"Time taken: {elapsed_time:.2f} seconds\")"
   ]
  },
  {
   "cell_type": "code",
   "execution_count": 13,
   "id": "51e22128-0568-4ed6-98ae-28d862e3081f",
   "metadata": {
    "tags": []
   },
   "outputs": [
    {
     "data": {
      "application/vnd.jupyter.widget-view+json": {
       "model_id": "",
       "version_major": 2,
       "version_minor": 0
      },
      "text/plain": [
       "FloatProgress(value=0.0, bar_style='info', description='Progress:', layout=Layout(height='25px', width='50%'),…"
      ]
     },
     "metadata": {},
     "output_type": "display_data"
    },
    {
     "name": "stdout",
     "output_type": "stream",
     "text": [
      "('Adults', 121093)\n",
      "('Young adults', 33605)\n",
      "('Kids', 10830)\n",
      "('Elders', 5985)\n",
      "Time taken: 20.35 seconds"
     ]
    }
   ],
   "source": [
    "sc = SparkSession.builder \\\n",
    "    .appName(\"Query 1 with RDDs\") \\\n",
    "    .config(\"spark.executor.instances\", \"4\") \\\n",
    "    .getOrCreate() \\\n",
    "    .sparkContext\n",
    "\n",
    "start_time = time.time()\n",
    "\n",
    "file_1 = \"s3://initial-notebook-data-bucket-dblab-905418150721/\\\n",
    "CrimeData/Crime_Data_from_2010_to_2019_20241101.csv\"\n",
    "file_2 = \"s3://initial-notebook-data-bucket-dblab-905418150721/\\\n",
    "CrimeData/Crime_Data_from_2020_to_Present_20241101.csv\"\n",
    "# Διαβαζουμε τα αρχεια ως RDDs\n",
    "rdd1 = sc.textFile(file_1)\n",
    "rdd2 = sc.textFile(file_2)\n",
    "\n",
    "\n",
    "# Συνaρτηση για ανaλυση CSV\n",
    "def parse_csv(line):\n",
    "    return list(csv.reader([line]))[0]\n",
    "\n",
    "\n",
    "rdd1 = rdd1.map(parse_csv)\n",
    "rdd2 = rdd2.map(parse_csv)\n",
    "# Αφαιρουμε την επικεφαλιδα απο καθε RDD\n",
    "header1 = rdd1.first()\n",
    "rdd1 = rdd1.filter(lambda row: row != header1)\n",
    "header2 = rdd2.first()\n",
    "rdd2 = rdd2.filter(lambda row: row != header2)\n",
    "# Ενοποιουμε τα δυο RDDs\n",
    "rdd = rdd1.union(rdd2)\n",
    "# Δημιουργουμε ενα νεο RDD με τις στηλες που μας ενδιαφερουν\n",
    "rdd = rdd.map(lambda fields: (fields[11], fields[9]))\n",
    "# Φιλτραρουμε για ηλικιες μεγαλυτερες από 0\n",
    "rdd = rdd.filter(lambda x: x[0].isdigit() and int(x[0]) > 0)\n",
    "# Φιλτραρουμε για \"AGGRAVATED ASSAULT\"\n",
    "rdd = rdd.filter(lambda x: \"AGGRAVATED ASSAULT\" in x[1])\n",
    "\n",
    "\n",
    "# Κατηγοριοποιουμε θυματα βασει ηλικιας\n",
    "def categorize_age(age):\n",
    "    age = int(age)\n",
    "    if age < 18:\n",
    "        return \"Kids\"\n",
    "    elif 18 <= age <= 24:\n",
    "        return \"Young adults\"\n",
    "    elif 25 <= age <= 64:\n",
    "        return \"Adults\"\n",
    "    else:\n",
    "        return \"Elders\"\n",
    "\n",
    "\n",
    "rdd = rdd.map(lambda x: (categorize_age(x[0]), 1))\n",
    "\n",
    "# Μετραμε ανα ηλικιακη ομαδα, χρησιμοποιωντας reduceByKey\n",
    "rdd = rdd.reduceByKey(lambda x, y: x + y)\n",
    "# Ταξινομουμε σε φθινουσα σειρά\n",
    "rdd = rdd.sortBy(lambda x: x[1], ascending=False)\n",
    "# Εμφανιζουμε αποτελεσματα\n",
    "for result in rdd.collect():\n",
    "    print(result)\n",
    "\n",
    "end_time = time.time()\n",
    "elapsed_time = end_time - start_time\n",
    "print(f\"Time taken: {elapsed_time:.2f} seconds\")"
   ]
  }
 ],
 "metadata": {
  "kernelspec": {
   "display_name": "Sparkmagic (PySpark)",
   "language": "python",
   "name": "pysparkkernel"
  },
  "language_info": {
   "codemirror_mode": {
    "name": "python",
    "version": 3
   },
   "file_extension": ".py",
   "mimetype": "text/x-python",
   "name": "pyspark",
   "pygments_lexer": "python3"
  }
 },
 "nbformat": 4,
 "nbformat_minor": 5
}
